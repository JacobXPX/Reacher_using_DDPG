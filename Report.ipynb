{
 "cells": [
  {
   "cell_type": "markdown",
   "metadata": {},
   "source": [
    "# Continuous Control\n",
    "\n",
    "---\n",
    "\n",
    "You are welcome to use this coding environment to train your agent for the project.  Follow the instructions below to get started!\n",
    "\n",
    "### 1. Start the Environment\n",
    "\n",
    "Run the next code cell to install a few packages.  This line will take a few minutes to run!"
   ]
  },
  {
   "cell_type": "markdown",
   "metadata": {},
   "source": [
    "The environments corresponding to both versions of the environment are already saved in the Workspace and can be accessed at the file paths provided below.  \n",
    "\n",
    "Please select one of the two options below for loading the environment."
   ]
  },
  {
   "cell_type": "code",
   "execution_count": 1,
   "metadata": {},
   "outputs": [
    {
     "name": "stderr",
     "output_type": "stream",
     "text": [
      "INFO:unityagents:\n",
      "'Academy' started successfully!\n",
      "Unity Academy name: Academy\n",
      "        Number of Brains: 1\n",
      "        Number of External Brains : 1\n",
      "        Lesson number : 0\n",
      "        Reset Parameters :\n",
      "\t\tgoal_speed -> 1.0\n",
      "\t\tgoal_size -> 5.0\n",
      "Unity brain name: ReacherBrain\n",
      "        Number of Visual Observations (per agent): 0\n",
      "        Vector Observation space type: continuous\n",
      "        Vector Observation space size (per agent): 33\n",
      "        Number of stacked Vector Observation: 1\n",
      "        Vector Action space type: continuous\n",
      "        Vector Action space size (per agent): 4\n",
      "        Vector Action descriptions: , , , \n"
     ]
    }
   ],
   "source": [
    "from unityagents import UnityEnvironment\n",
    "import numpy as np\n",
    "import random\n",
    "import torch\n",
    "from collections import deque\n",
    "import matplotlib.pyplot as plt\n",
    "%matplotlib inline\n",
    "from datetime import datetime\n",
    "def MSG(txt):\n",
    "    print('\\n',datetime.now().strftime(\"%Y-%m-%d %H:%M:%S:\"), str(txt))\n",
    "from ddpg_agent import Agent\n",
    "\n",
    "# select this option to load version 2 (with 20 agents) of the environment\n",
    "env = UnityEnvironment(file_name='data/Reacher_Linux/Reacher.x86_64')\n",
    "# get the default brain\n",
    "brain_name = env.brain_names[0]\n",
    "brain = env.brains[brain_name]"
   ]
  },
  {
   "cell_type": "markdown",
   "metadata": {},
   "source": [
    "### 2. Examine the State and Action Spaces\n",
    "\n",
    "Run the code cell below to print some information about the environment."
   ]
  },
  {
   "cell_type": "code",
   "execution_count": 2,
   "metadata": {},
   "outputs": [
    {
     "name": "stdout",
     "output_type": "stream",
     "text": [
      "Number of agents: 20\n",
      "Size of each action: 4\n",
      "There are 20 agents. Each observes a state with length: 33\n",
      "The state for the first agent looks like: [ 0.00000000e+00 -4.00000000e+00  0.00000000e+00  1.00000000e+00\n",
      " -0.00000000e+00 -0.00000000e+00 -4.37113883e-08  0.00000000e+00\n",
      "  0.00000000e+00  0.00000000e+00  0.00000000e+00  0.00000000e+00\n",
      "  0.00000000e+00  0.00000000e+00 -1.00000000e+01  0.00000000e+00\n",
      "  1.00000000e+00 -0.00000000e+00 -0.00000000e+00 -4.37113883e-08\n",
      "  0.00000000e+00  0.00000000e+00  0.00000000e+00  0.00000000e+00\n",
      "  0.00000000e+00  0.00000000e+00  5.75471878e+00 -1.00000000e+00\n",
      "  5.55726624e+00  0.00000000e+00  1.00000000e+00  0.00000000e+00\n",
      " -1.68164849e-01]\n"
     ]
    }
   ],
   "source": [
    "# reset the environment\n",
    "env_info = env.reset(train_mode=True)[brain_name]\n",
    "\n",
    "# number of agents\n",
    "num_agents = len(env_info.agents)\n",
    "print('Number of agents:', num_agents)\n",
    "\n",
    "# size of each action\n",
    "action_size = brain.vector_action_space_size\n",
    "print('Size of each action:', action_size)\n",
    "\n",
    "# examine the state space \n",
    "states = env_info.vector_observations\n",
    "state_size = states.shape[1]\n",
    "print('There are {} agents. Each observes a state with length: {}'.format(states.shape[0], state_size))\n",
    "print('The state for the first agent looks like:', states[0])\n"
   ]
  },
  {
   "cell_type": "code",
   "execution_count": 3,
   "metadata": {},
   "outputs": [
    {
     "name": "stdout",
     "output_type": "stream",
     "text": [
      "Total score (averaged over agents) this episode: 0.19899999555200337\n"
     ]
    }
   ],
   "source": [
    "env_info = env.reset(train_mode=True)[brain_name]      # reset the environment    \n",
    "states = env_info.vector_observations                  # get the current state (for each agent)\n",
    "scores = np.zeros(num_agents)                          # initialize the score (for each agent)\n",
    "while True:\n",
    "    actions = np.random.randn(num_agents, action_size) # select an action (for each agent)\n",
    "    actions = np.clip(actions, -1, 1)                  # all actions between -1 and 1\n",
    "    env_info = env.step(actions)[brain_name]           # send all actions to tne environment\n",
    "    next_states = env_info.vector_observations         # get next state (for each agent)\n",
    "    rewards = env_info.rewards                         # get reward (for each agent)\n",
    "    dones = env_info.local_done                        # see if episode finished\n",
    "    scores += env_info.rewards                         # update the score (for each agent)\n",
    "    states = next_states                               # roll over states to next time step\n",
    "    if np.any(dones):                                  # exit loop if episode finished\n",
    "        break\n",
    "print('Total score (averaged over agents) this episode: {}'.format(np.mean(scores)))"
   ]
  },
  {
   "cell_type": "markdown",
   "metadata": {},
   "source": [
    "### 3. Modified DDPG\n",
    "\n",
    "[DDPG](https://arxiv.org/abs/1509.02971) is an actor-critic, model-free algorithm based on the deterministic policy gradient that can operate over continuous action spaces. \n",
    "![DDPG](src/img/DDPG.png)\n",
    "Our algorithm is a distributed version of DDPG.\n",
    "\n",
    "Details of algorithm:\n",
    "\n",
    "1. 2-hidden layer (relu+bn) + tanh outlayer Actor Netwok\n",
    "2. 2-hidden layer (relu+bn) + Linear outlayer  Critic Netwok\n",
    "3. 1 shared Critic/Actor Network + 20 OuNoise process for each agent\n",
    "\n",
    "Some hyper-parameters:\n",
    "\n",
    "Hyper-Parameter | Value | Description\n",
    "----------|-----------|--------------\n",
    "BUFFER_SIZE | 2e6  | replay buffer size\n",
    "BATCH_SIZE | 512        | minibatch size\n",
    "GAMMA | 0.99           | discount factor\n",
    "TAU | 1e-3              | for soft update of target parameters\n",
    "LR_ACTOR | 5e-4         | learning rate of the actor\n",
    "LR_CRITIC | 5e-4        | learning rate of the critic\n",
    "WEIGHT_DECAY | 0        | L2 weight decay\n",
    "UPDATE_EVERY | 25       | how often to update the network\n",
    "LEARN_TIMES | 10        | how many times to learn each avtive step\n"
   ]
  },
  {
   "cell_type": "code",
   "execution_count": 4,
   "metadata": {
    "scrolled": false
   },
   "outputs": [
    {
     "name": "stdout",
     "output_type": "stream",
     "text": [
      "\n",
      " 2018-11-07 17:32:15: start!\n",
      "Episode 10\tCurrent Episode Average Score: 0.99\tAverage Score on 100 Episode: 0.84\n",
      "Episode 20\tCurrent Episode Average Score: 2.11\tAverage Score on 100 Episode: 1.26\n",
      "Episode 30\tCurrent Episode Average Score: 15.59\tAverage Score on 100 Episode: 3.64\n",
      "Episode 40\tCurrent Episode Average Score: 30.01\tAverage Score on 100 Episode: 9.50\n",
      "Episode 50\tCurrent Episode Average Score: 38.36\tAverage Score on 100 Episode: 14.86\n",
      "Episode 60\tCurrent Episode Average Score: 37.60\tAverage Score on 100 Episode: 18.63\n",
      "Episode 70\tCurrent Episode Average Score: 38.32\tAverage Score on 100 Episode: 21.44\n",
      "Episode 80\tCurrent Episode Average Score: 38.64\tAverage Score on 100 Episode: 23.60\n",
      "Episode 90\tCurrent Episode Average Score: 38.14\tAverage Score on 100 Episode: 25.23\n",
      "Episode 100\tCurrent Episode Average Score: 36.48\tAverage Score on 100 Episode: 26.44\n",
      "Episode 110\tCurrent Episode Average Score: 35.82\tAverage Score on 100 Episode: 29.94\n",
      "Episode 111\tCurrent Episode Average Score: 34.75\tAverage Score on 100 Episode: 30.27\n",
      " 2018-11-07 18:13:31: end!\n"
     ]
    },
    {
     "data": {
      "image/png": "[encoded data removed]",
      "text/plain": [
       "<matplotlib.figure.Figure at 0x7fa440c467b8>"
      ]
     },
     "metadata": {},
     "output_type": "display_data"
    }
   ],
   "source": [
    "n_agent = 20\n",
    "agent = Agent(state_size=state_size, action_size=action_size, random_seed=2, n_agent=n_agent)\n",
    "def ddpg(n_agent, n_episodes=300, max_t=1000, print_every=100):\n",
    "    MSG('start!')\n",
    "    scores_deque = deque(maxlen=print_every)\n",
    "    scores = []\n",
    "    best_score = 0.\n",
    "    for i_episode in range(1, n_episodes+1):\n",
    "        env_info = env.reset(train_mode=True)[brain_name]\n",
    "        state = env_info.vector_observations\n",
    "        agent.reset()\n",
    "        agent_scores = [0]*n_agent\n",
    "        for t in range(max_t):\n",
    "            action = [agent.act(state[agent_x], agent_x) for agent_x in range(n_agent)]\n",
    "            # get needed information from environment\n",
    "            env_info = env.step(action)[brain_name]\n",
    "            next_state = env_info.vector_observations\n",
    "            reward = env_info.rewards\n",
    "            done = env_info.local_done\n",
    "            for agent_x in range(n_agent):\n",
    "                agent_scores[agent_x] += reward[agent_x]\n",
    "                agent.step(state[agent_x], action[agent_x], reward[agent_x], \n",
    "                           next_state[agent_x], done[agent_x], agent_x)\n",
    "            state = next_state\n",
    "            if any(done):\n",
    "                break\n",
    "        score = np.mean(agent_scores)\n",
    "        scores_deque.append(score)\n",
    "        scores.append(score)\n",
    "        print('\\rEpisode {}\\tCurrent Episode Average Score: {:.2f}\\tAverage Score on 100 Episode: {:.2f}'.format(i_episode, score, np.mean(scores_deque)), end=\"\")\n",
    "        if score > best_score:\n",
    "            torch.save(agent.actor_local.state_dict(), 'model/checkpoint_actor.pth')\n",
    "            torch.save(agent.critic_local.state_dict(), 'model/checkpoint_critic.pth')\n",
    "            best_score = score\n",
    "        if i_episode % (print_every/10) == 0:\n",
    "            print('\\rEpisode {}\\tCurrent Episode Average Score: {:.2f}\\tAverage Score on 100 Episode: {:.2f}'.format(i_episode, score, np.mean(scores_deque)))\n",
    "        if score > 30 and np.mean(scores_deque) > 30:\n",
    "            break\n",
    "    MSG('end!') \n",
    "    return scores\n",
    "scores = ddpg(n_agent)\n",
    "\n",
    "# plot\n",
    "fig = plt.figure()\n",
    "ax = fig.add_subplot(111)\n",
    "plt.plot(np.arange(1, len(scores)+1), scores)\n",
    "plt.ylabel('Score')\n",
    "plt.xlabel('Episode #')\n",
    "plt.show()"
   ]
  },
  {
   "cell_type": "markdown",
   "metadata": {},
   "source": [
    "### 4. Have a look at well-trained agent"
   ]
  },
  {
   "cell_type": "code",
   "execution_count": 1,
   "metadata": {},
   "outputs": [
    {
     "name": "stderr",
     "output_type": "stream",
     "text": [
      "INFO:unityagents:\n",
      "'Academy' started successfully!\n",
      "Unity Academy name: Academy\n",
      "        Number of Brains: 1\n",
      "        Number of External Brains : 1\n",
      "        Lesson number : 0\n",
      "        Reset Parameters :\n",
      "\t\tgoal_speed -> 1.0\n",
      "\t\tgoal_size -> 5.0\n",
      "Unity brain name: ReacherBrain\n",
      "        Number of Visual Observations (per agent): 0\n",
      "        Vector Observation space type: continuous\n",
      "        Vector Observation space size (per agent): 33\n",
      "        Number of stacked Vector Observation: 1\n",
      "        Vector Action space type: continuous\n",
      "        Vector Action space size (per agent): 4\n",
      "        Vector Action descriptions: , , , \n"
     ]
    }
   ],
   "source": [
    "from unityagents import UnityEnvironment\n",
    "import numpy as np\n",
    "import random\n",
    "import torch\n",
    "from collections import deque\n",
    "from datetime import datetime\n",
    "from ddpg_agent import Agent\n",
    "# select this option to load version 2 (with 20 agents) of the environment\n",
    "env = UnityEnvironment(file_name='data/Reacher_Linux/Reacher.x86_64')\n",
    "# get the default brain\n",
    "brain_name = env.brain_names[0]\n",
    "brain = env.brains[brain_name]\n",
    "# reset the environment\n",
    "env_info = env.reset(train_mode=True)[brain_name]\n",
    "# number of agents\n",
    "num_agents = len(env_info.agents)\n",
    "# size of each action\n",
    "action_size = brain.vector_action_space_size\n",
    "# examine the state space \n",
    "states = env_info.vector_observations\n",
    "state_size = states.shape[1]"
   ]
  },
  {
   "cell_type": "code",
   "execution_count": 2,
   "metadata": {},
   "outputs": [],
   "source": [
    "n_agent = 20\n",
    "agent = Agent(state_size=state_size, action_size=action_size, random_seed=2, n_agent=n_agent)\n",
    "\n",
    "agent.actor_local.load_state_dict(torch.load('model/checkpoint_actor.pth'))\n",
    "agent.critic_local.load_state_dict(torch.load('model/checkpoint_critic.pth'))\n",
    "\n",
    "env_info = env.reset(train_mode=False)[brain_name]\n",
    "state = env_info.vector_observations\n",
    "for t in range(200):\n",
    "    action = [agent.act(state[agent_x], agent_x) for agent_x in range(n_agent)]\n",
    "    env_info = env.step(action)[brain_name]\n",
    "    next_state = env_info.vector_observations\n",
    "    reward = env_info.rewards\n",
    "    done = env_info.local_done\n",
    "    state = next_state\n",
    "    if all(done):\n",
    "        break\n",
    "\n",
    "env.close()"
   ]
  },
  {
   "cell_type": "markdown",
   "metadata": {},
   "source": [
    "### Next Step\n",
    "\n",
    "To improve the agent's performance:\n",
    "\n",
    "1. During my experiments, I found the sample distribution does affect the performance a lot. Thus, I plan to build a heuristic method to maintain buffer replay and do sampling each training step. E.g. weighted sampling.\n",
    "2. Try different noise generator."
   ]
  }
 ],
 "metadata": {
  "kernelspec": {
   "display_name": "Python 3",
   "language": "python",
   "name": "python3"
  },
  "language_info": {
   "codemirror_mode": {
    "name": "ipython",
    "version": 3
   },
   "file_extension": ".py",
   "mimetype": "text/x-python",
   "name": "python",
   "nbconvert_exporter": "python",
   "pygments_lexer": "ipython3",
   "version": "3.6.4"
  }
 },
 "nbformat": 4,
 "nbformat_minor": 2
}
